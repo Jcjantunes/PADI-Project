{
  "cells": [
    {
      "cell_type": "markdown",
      "metadata": {
        "id": "zKcwKnLJt5Lk"
      },
      "source": [
        "# Learning and Decision Making"
      ]
    },
    {
      "cell_type": "markdown",
      "metadata": {
        "id": "_B1hmeDxt5Lp"
      },
      "source": [
        "## Laboratory 1: Markov chains\n",
        "\n",
        "In the end of the lab, you should export the notebook to a Python script (File >> Download as >> Python (.py)). Your file should be named `padi-lab1-groupXX.py`, where the `XX` corresponds to your group number and should be submitted to the e-mail <adi.tecnico@gmail.com>. \n",
        "\n",
        "Make sure...\n",
        "\n",
        "* **... that the subject is of the form `[<group n.>] LAB <lab n.>`.** \n",
        "\n",
        "* **... to strictly respect the specifications in each activity, in terms of the intended inputs, outputs and naming conventions.** \n",
        "\n",
        "In particular, after completing the activities you should be able to replicate the examples provided (although this, in itself, is no guarantee that the activities are correctly completed).\n",
        "\n",
        "### 1. The Markov chain model\n",
        "\n",
        "Consider once again the Pacman modeling problem described in the Homework and for which you wrote a Markov chain model. In this lab, you will consider a larger version of the Pacman problem, described by the diagram:\n",
        "\n",
        "<img src=\"pacman-big.png\">\n",
        "\n",
        "Recall that your chain should describe the motion of the single ghost moving in the environment, where: \n",
        "\n",
        "* The cells are numbered from 1 to 35, as indicated by the blue numbers;\n",
        "* At each moment, the ghost is in one of the 35 cells; at the next time step, it will move to one of the adjacent cells with equal probability;\n",
        "* The cell in the bottom left corner (cell `29`) is adjacent, to the left, to the cell in the bottom right corner (cell `35`). In other words, if the ghost \"moves left\" in cell `29` it will end up in cell `35` and vice-versa.\n",
        "\n",
        "In this first activity, you will implement your Markov chain model in Python. You will start by loading the transition probability matrix from a `numpy` binary file, using the `numpy` function `load`. You will then consider the state space to consist of all possible cells in the environment, each represented as a string. For example, if the environment has 10 cells, the states should include the strings `'1'` to `'10'`. "
      ]
    },
    {
      "cell_type": "markdown",
      "metadata": {
        "id": "c-QgamtWt5Lt"
      },
      "source": [
        "---\n",
        "\n",
        "#### Activity 1.        \n",
        "\n",
        "Write a function named `load_chain` that receives, as input, a string corresponding to the name of a file containing a transition probability matrix for some Pacman maze to be loaded and returns, as output, a two-element tuple corresponding to the Markov chain that describes the movement of the ghost, where:\n",
        "\n",
        "* ... the first element is a tuple containing an enumeration of the state-space (i.e., each element of the tuple corresponds to a state of the chain, represented as a string).\n",
        "* ... the second element is a `numpy` array corresponding to the transition probability matrix for the chain.\n",
        "\n",
        "**Note:** The file provided contains the transition probability matrix for the maze in the diagram above. However, your code will be tested with mazes of different sizes, so **make sure not to hard-code the size of the environment into your code**.\n",
        "\n",
        "---"
      ]
    },
    {
      "cell_type": "code",
      "execution_count": 68,
      "metadata": {
        "ExecuteTime": {
          "end_time": "2022-03-09T15:25:18.819450Z",
          "start_time": "2022-03-09T15:25:14.782973Z"
        },
        "colab": {
          "base_uri": "https://localhost:8080/"
        },
        "id": "2SB9XaNpt5Lv",
        "outputId": "88a6ee64-180e-41da-93b5-12f3a6022198"
      },
      "outputs": [
        {
          "output_type": "stream",
          "name": "stdout",
          "text": [
            "Number of states: 35\n",
            "Type of states: <class 'str'>\n",
            "First state: 1\n",
            "\n",
            "Transition probability matrix (type): <class 'numpy.ndarray'>\n",
            "Transition probability matrix (dimension): (35, 35)\n"
          ]
        }
      ],
      "source": [
        "import numpy as np\n",
        "import matplotlib.pyplot as plt\n",
        "import numpy.random as rnd\n",
        "\n",
        "def load_chain(fName):\n",
        "  X = ('1', '2', '3', '4', '5', '6', '7',\n",
        "       '8', '9', '10', '11', '12', '13', '14',\n",
        "       '15', '16', '17', '18', '19', '20', '21',\n",
        "       '22', '23', '24', '25', '26', '27', '28',\n",
        "       '29', '30', '31', '32', '33', '34', '35')\n",
        "  \n",
        "  P = np.load(fName)\n",
        "  \n",
        "  markovChain = (X, P)\n",
        "\n",
        "  return markovChain"
      ]
    },
    {
      "cell_type": "markdown",
      "metadata": {
        "id": "genMQMqEt5Lw"
      },
      "source": [
        "We provide below an example of application of the function, that you can use as a first \"sanity check\" for your code. Note, however, that the fact that you can replicate the examples below is not indicative that your code is correct.\n",
        "\n",
        "```python\n",
        "M = load_chain('pacman-big.npy')\n",
        "\n",
        "print('Number of states:', len(M[0]))\n",
        "print('Type of states:', type(M[0][0]))\n",
        "print('First state:', M[0][0])\n",
        "print('\\nTransition probability matrix (type):', type(M[1]))\n",
        "print('Transition probability matrix (dimension):', M[1].shape)```\n",
        "\n",
        "Output:\n",
        "```\n",
        "Number of states: 35\n",
        "Type of states: <class 'str'>\n",
        "First state: 1\n",
        "\n",
        "Transition probability matrix (type): <class 'numpy.ndarray'>\n",
        "Transition probability matrix (dimension): (35, 35)\n",
        "```"
      ]
    },
    {
      "cell_type": "markdown",
      "metadata": {
        "id": "31tZ6pO8t5Lx"
      },
      "source": [
        "In the next activity, you will use the Markov chain model to evaluate the likelihood of any given path for the ghost.\n",
        "\n",
        "---\n",
        "\n",
        "#### Activity 2.\n",
        "\n",
        "Write a function `prob_trajectory` that receives, as inputs, \n",
        "\n",
        "* ... a Markov chain in the form of a tuple like the one returned by the function in Activity 1;\n",
        "* ... a trajectory, corresponding to a sequence of states (i.e., a tuple or list of strings, each string corresponding to a state).\n",
        "\n",
        "Your function should return, as output, a floating point number corresponding to the probability of observing the provided trajectory, taking the first state in the trajectory as initial state. \n",
        "\n",
        "---"
      ]
    },
    {
      "cell_type": "code",
      "execution_count": 69,
      "metadata": {
        "ExecuteTime": {
          "end_time": "2020-09-24T17:40:07.912333Z",
          "start_time": "2020-09-24T17:40:07.904515Z"
        },
        "colab": {
          "base_uri": "https://localhost:8080/"
        },
        "id": "_30qzq4st5Ly",
        "outputId": "8f5c7e73-21db-4120-e0d9-a156c40120df"
      },
      "outputs": [
        {
          "output_type": "stream",
          "name": "stdout",
          "text": [
            "Prob. of trajectory ('3', '9', '15'): 0.16666666666666666\n",
            "Prob. of trajectory ('6', '7', '12', '11', '10'): 0.0625\n",
            "Prob. of trajectory ('10', '11', '17'): 0.0\n",
            "Prob. of trajectory ('34', '35', '29'): 0.25\n"
          ]
        }
      ],
      "source": [
        "def prob_trajectory(markovChain, trajectory):\n",
        "    P = markovChain[1]\n",
        "    trajectProb = 1\n",
        "    \n",
        "    for i in range(len(trajectory) - 1):\n",
        "      currentCell = int(trajectory[i]) - 1\n",
        "      nextCell = int(trajectory[i+1]) - 1\n",
        "      \n",
        "      trajectProb = trajectProb * P[currentCell][nextCell]\n",
        "    \n",
        "    return trajectProb"
      ]
    },
    {
      "cell_type": "markdown",
      "metadata": {
        "id": "GP3HO976t5Ly"
      },
      "source": [
        "Example of application of the function with the chain $M$ from Activity 1.\n",
        "\n",
        "```python\n",
        "print(\"Prob. of trajectory ('3', '9', '15'):\", prob_trajectory(M, ('3', '9', '15')))\n",
        "print(\"Prob. of trajectory ('6', '7', '12', '11', '10'):\", prob_trajectory(M, ('6', '7', '12', '11', '10')))\n",
        "print(\"Prob. of trajectory ('10', '11', '17'):\", prob_trajectory(M, ('10', '11', '17')))\n",
        "print(\"Prob. of trajectory ('34', '35', '29'):\", prob_trajectory(M, ('34', '35', '29')))\n",
        "```\n",
        "\n",
        "Output:\n",
        "```\n",
        "Prob. of trajectory ('3', '9', '15'): 0.16666666666666666\n",
        "Prob. of trajectory ('6', '7', '12', '11', '10'): 0.0625\n",
        "Prob. of trajectory ('10', '11', '17'): 0.0\n",
        "Prob. of trajectory ('34', '35', '29'): 0.25\n",
        "```\n",
        "\n",
        "Note that your function should work with **any** Markov chain that is specified as a tuple like the one from Activity 1."
      ]
    },
    {
      "cell_type": "markdown",
      "metadata": {
        "id": "Am619KWWt5Lz"
      },
      "source": [
        "### 2. Stability"
      ]
    },
    {
      "cell_type": "markdown",
      "metadata": {
        "id": "bWE5SxA2t5Lz"
      },
      "source": [
        "The next activities explore the notion of *stationary distribution* for the chain, a central concept in the the PageRank algorithm.\n",
        "\n",
        "---\n",
        "\n",
        "#### Activity 3\n",
        "\n",
        "Write a function `stationary_dist` that receives, as input, a Markov chain in the form of a tuple like the one returned by the function in Activity 1. Your function should return, as output, a `numpy` array corresponding to a row vector containing the stationary distribution for the chain.\n",
        "\n",
        "**Note:** The stationary distribution is a *left* eigenvector of the transition probability matrix associated to the eigenvalue 1. As such, you may find useful the numpy function `numpy.linalg.eig`. Also, recall that the stationary distribution is *a distribution*.\n",
        "\n",
        "---"
      ]
    },
    {
      "cell_type": "code",
      "execution_count": 70,
      "metadata": {
        "ExecuteTime": {
          "end_time": "2020-09-24T17:41:48.907805Z",
          "start_time": "2020-09-24T17:41:48.892401Z"
        },
        "colab": {
          "base_uri": "https://localhost:8080/"
        },
        "id": "oXWbN6Iut5L0",
        "outputId": "a5aea05a-8d22-4f43-9ccb-858d3ccda18f"
      },
      "outputs": [
        {
          "output_type": "stream",
          "name": "stdout",
          "text": [
            "Stationary distribution:\n",
            "[0.03 0.03 0.05 0.03 0.03 0.03 0.03 0.04 0.03 0.03 0.03 0.03 0.05 0.03\n",
            " 0.07 0.03 0.04 0.03 0.03 0.04 0.04 0.05 0.03 0.02 0.02 0.02 0.02 0.02\n",
            " 0.01 0.   0.   0.01 0.01 0.01 0.01]\n",
            "\n",
            "Is u* * P = u*? True\n"
          ]
        }
      ],
      "source": [
        "def stationary_dist(markovChain):\n",
        "    transposedP = markovChain[1].T\n",
        "    \n",
        "    eigenValues, eigenVectors = np.linalg.eig(transposedP)\n",
        "    \n",
        "    absoluteValues = np.abs(eigenValues - 1)\n",
        "    lineIndex = np.argmin(absoluteValues)\n",
        "    \n",
        "    transposedEigenVectors = eigenVectors.T\n",
        "    stationaryDist = np.real(transposedEigenVectors[lineIndex])\n",
        "    \n",
        "    stationaryDistTotalSum = np.sum(stationaryDist)\n",
        "    normalizedDist = stationaryDist/stationaryDistTotalSum\n",
        "    \n",
        "    return normalizedDist"
      ]
    },
    {
      "cell_type": "markdown",
      "metadata": {
        "id": "s6_1Oii5t5L0"
      },
      "source": [
        "Example of application of the function with the chain $M$ from Activity 1.\n",
        "\n",
        "```python\n",
        "u_star = stationary_dist(M)\n",
        "\n",
        "print('Stationary distribution:')\n",
        "print(np.round(u_star, 2))\n",
        "\n",
        "u_prime = u_star.dot(M[1])\n",
        "\n",
        "print('\\nIs u* * P = u*?', np.all(np.isclose(u_prime, u_star)))\n",
        "```\n",
        "\n",
        "Output:\n",
        "```\n",
        "Stationary distribution:\n",
        "[0.03 0.03 0.05 0.03 0.03 0.03 0.03 0.04 0.03 0.03 0.03 0.03 0.05 0.03\n",
        " 0.07 0.03 0.04 0.03 0.03 0.04 0.04 0.05 0.03 0.02 0.02 0.02 0.02 0.02\n",
        " 0.01 0.   0.   0.01 0.01 0.01 0.01]\n",
        "\n",
        "Is u* * P = u*? True\n",
        "```"
      ]
    },
    {
      "cell_type": "markdown",
      "metadata": {
        "id": "ygCcbDK5t5L1"
      },
      "source": [
        "To complement Activity 3, you will now empirically establish that the chain is ergodic, i.e., no matter where the ghost starts, its visitation frequency will eventually converge to the stationary distribution.\n",
        "\n",
        "---\n",
        "\n",
        "#### Activity 4.\n",
        "\n",
        "Write a function `compute_dist` that receives, as inputs, \n",
        "\n",
        "* ... a Markov chain in the form of a tuple like the one returned by the function in Activity 1;\n",
        "* ... a row vector (a numpy array) corresponding to the initial distribution for the chain;\n",
        "* ... an integer $N$, corresponding to the number of steps that the bot is expected to take.\n",
        "\n",
        "Your function should return, as output, a row vector (a `numpy` array) containing the distribution after $N$ steps of the chain.\n",
        "\n",
        "---"
      ]
    },
    {
      "cell_type": "code",
      "execution_count": 71,
      "metadata": {
        "ExecuteTime": {
          "end_time": "2020-09-24T17:42:29.107319Z",
          "start_time": "2020-09-24T17:42:29.099857Z"
        },
        "colab": {
          "base_uri": "https://localhost:8080/"
        },
        "id": "ocjfPMX6t5L2",
        "outputId": "a03349de-2950-4121-e2cc-4ce536a5535a"
      },
      "outputs": [
        {
          "output_type": "stream",
          "name": "stdout",
          "text": [
            "\n",
            "Is u * P^100 = u*? False\n",
            "\n",
            "Is u * P^2000 = u*? True\n"
          ]
        }
      ],
      "source": [
        "def compute_dist(markovChain, initialDistribution, N):\n",
        "    P = np.linalg.matrix_power(markovChain[1], N)\n",
        "\n",
        "    finalDistribution = initialDistribution.dot(P)\n",
        "    \n",
        "    return finalDistribution"
      ]
    },
    {
      "cell_type": "markdown",
      "metadata": {
        "id": "LvUBOyf4t5L2"
      },
      "source": [
        "Example of application of the function with the chain $M$ from Activity 1.\n",
        "\n",
        "```python\n",
        "import numpy.random as rnd\n",
        "\n",
        "# Number of states\n",
        "nS = len(M[0])\n",
        "\n",
        "rnd.seed(42)\n",
        "\n",
        "# Initial random distribution\n",
        "u = rnd.random((1, nS))\n",
        "u = u / np.sum(u)\n",
        "\n",
        "# Distrbution after 100 steps\n",
        "v = compute_dist(M, u, 100)\n",
        "print('\\nIs u * P^100 = u*?', np.all(np.isclose(v, u_star)))\n",
        "\n",
        "# Distrbution after 2000 steps\n",
        "v = compute_dist(M, u, 2000)\n",
        "print('\\nIs u * P^2000 = u*?', np.all(np.isclose(v, u_star)))\n",
        "```\n",
        "\n",
        "Output:\n",
        "```\n",
        "Is u * P^100 = u*? False\n",
        "\n",
        "Is u * P^2000 = u*? True\n",
        "```"
      ]
    },
    {
      "cell_type": "markdown",
      "metadata": {
        "id": "R5kKh6xFt5L3"
      },
      "source": [
        "Is the chain ergodic? Justify, based on the results above."
      ]
    },
    {
      "cell_type": "markdown",
      "metadata": {
        "id": "XhqfkY0At5L3"
      },
      "source": [
        "For the Markov Chain to be ergodic it needs to be irreducible and aperiodic. The given Markov Chain in this exercise is irreducible since it possible for any state to be reached from any other state. The given chain is also aperiodic since the period of all given states is 1, we can conclude this because the chain is irreducible and if one state has period 1, all the states from the chain have period 1 as well. Besides that, the chain eventually reaches the stationary distribution, we can observe this because at around 100 steps the distribution did not reach the stationary distribution yet, but at around 2000 steps it did."
      ]
    },
    {
      "cell_type": "markdown",
      "metadata": {
        "id": "XOve93fCt5L4"
      },
      "source": [
        "### 3. Simulation\n",
        "\n",
        "In this part of the lab, you will *simulate* the actual bot, and empirically compute the visitation frequency of each state."
      ]
    },
    {
      "cell_type": "markdown",
      "metadata": {
        "id": "G6N05GWqt5L4"
      },
      "source": [
        "---\n",
        "\n",
        "#### Activity 5\n",
        "\n",
        "Write down a function `simulate` that receives, as inputs, \n",
        "\n",
        "* ... a Markov chain in the form of a tuple like the one returned by the function in Activity 1;\n",
        "* ... a row vector (a `numpy` array) corresponding to the initial distribution for the chain;\n",
        "* ... an integer $N$, corresponding to the number of steps that the bot is expected to take.\n",
        "\n",
        "Your function should return, as output, a tuple containing a trajectory containing $N$ states, obtained from the initial distribution provided. Each element in the tuple should be a string corresponding to a state index.\n",
        "\n",
        "---\n",
        "\n",
        "**Note:** You may find useful to import the numpy module `numpy.random`."
      ]
    },
    {
      "cell_type": "code",
      "execution_count": 72,
      "metadata": {
        "ExecuteTime": {
          "end_time": "2020-09-24T17:43:39.189231Z",
          "start_time": "2020-09-24T17:43:38.832378Z"
        },
        "colab": {
          "base_uri": "https://localhost:8080/"
        },
        "id": "x-aLBdvgt5L4",
        "outputId": "625f99c2-f46e-433f-ff9f-ec5d43e5dca0"
      },
      "outputs": [
        {
          "output_type": "stream",
          "name": "stdout",
          "text": [
            "Small trajectory: ('14', '15', '16', '17', '10', '11', '10', '17', '16', '17')\n",
            "End of large trajectory: ('13', '8', '1', '8', '1', '8', '1', '8', '13', '20')\n"
          ]
        }
      ],
      "source": [
        "def simulate(markovChain, initialDistribution, N):\n",
        "    expectedTrajectory = ()\n",
        "    \n",
        "    stepDistribution = initialDistribution[0]\n",
        "    X = markovChain[0]\n",
        "    P = markovChain[1]\n",
        "    for i in range(N):\n",
        "        nextCellList = np.random.choice(X, 1, p = stepDistribution)\n",
        "        nextCell = nextCellList[0]\n",
        "        \n",
        "        expectedTrajectory = expectedTrajectory + (nextCell,)\n",
        "        \n",
        "        stepDistribution = P[X.index(nextCell)]\n",
        "        \n",
        "    return expectedTrajectory"
      ]
    },
    {
      "cell_type": "markdown",
      "metadata": {
        "id": "wRX2h2ubt5L5"
      },
      "source": [
        "Example of application of the function with the chain $M$ from Activity 1.\n",
        "\n",
        "```python\n",
        "# Number of states\n",
        "nS = len(M[0])\n",
        "\n",
        "# Initial, uniform distribution\n",
        "u = np.ones((1, nS)) / nS\n",
        "\n",
        "np.random.seed(42)\n",
        "\n",
        "# Simulate short trajectory\n",
        "traj = simulate(M, u, 10)\n",
        "print('Small trajectory:', traj)\n",
        "\n",
        "# Simulate a long trajectory\n",
        "traj = simulate(M, u, 10000)\n",
        "print('End of large trajectory:', traj[-10:])\n",
        "```\n",
        "\n",
        "Output:\n",
        "```\n",
        "Small trajectory: ('14', '15', '16', '17', '10', '11', '10', '17', '16', '17')\n",
        "End of large trajectory: ('13', '8', '1', '8', '1', '8', '1', '8', '13', '20')\n",
        "```\n",
        "\n",
        "Note that, even if the seed is fixed, it is possible that your trajectories are slightly different."
      ]
    },
    {
      "cell_type": "markdown",
      "metadata": {
        "id": "BbpUDrE9t5L6"
      },
      "source": [
        "---\n",
        "\n",
        "#### Activity 6\n",
        "\n",
        "Use the function `simulate` from Activity #5 to generate a 20,000-step trajectory. Plot the histogram of the obtained trajectory using the function `hist` from the module `matplotlib.pyplot`. Make sure that the histogram has one bin for each state. Compare the relative frequencies with the result of Activity #3.\n",
        "\n",
        "**Note**: Don't forget to load `matplotlib`. \n",
        "\n",
        "**Note 2**: Recall that the states in the trajectory obtained from the function `simulate` consist of *strings*, which should be converted to state indices to match the entries in the distribution computed in Activity #3.\n",
        "\n",
        "---"
      ]
    },
    {
      "cell_type": "code",
      "execution_count": 73,
      "metadata": {
        "ExecuteTime": {
          "end_time": "2020-09-24T17:47:06.647350Z",
          "start_time": "2020-09-24T17:47:06.168651Z"
        },
        "colab": {
          "base_uri": "https://localhost:8080/",
          "height": 295
        },
        "id": "7jT8oZgXt5L7",
        "outputId": "b0b4f928-37fe-4729-a23b-62de60747155"
      },
      "outputs": [
        {
          "output_type": "display_data",
          "data": {
            "text/plain": [
              "<Figure size 432x288 with 1 Axes>"
            ],
            "image/png": "[encoded data removed]"
          },
          "metadata": {
            "needs_background": "light"
          }
        }
      ],
      "source": [
        "markovChain = load_chain('pacman-big.npy')\n",
        "X, P = markovChain\n",
        "nS = len(X)\n",
        "\n",
        "rnd.seed(42)\n",
        "\n",
        "# Initial random distribution\n",
        "u = rnd.random((1, nS))\n",
        "u = u / np.sum(u)\n",
        "\n",
        "nSteps = 20000\n",
        "\n",
        "states = simulate(markovChain, u, nSteps)\n",
        "x = [X.index(state) for state in states]\n",
        "   \n",
        "n, bins, patches = plt.hist(x, rwidth = 0.5 ,bins = np.arange(nS + 1) - 0.5, \n",
        "                            density = 1, color ='green', alpha = 0.7)\n",
        "   \n",
        "stationaryDist = stationary_dist(markovChain)\n",
        "\n",
        "plt.plot(X, stationaryDist, 'ro', label=\"Stationary Distribution\")\n",
        "  \n",
        "plt.xlabel('State')\n",
        "plt.ylabel('Frequency per State')\n",
        "  \n",
        "plt.title('Stationary Distribution', fontweight =\"bold\")\n",
        "  \n",
        "plt.show()"
      ]
    }
  ],
  "metadata": {
    "kernelspec": {
      "display_name": "Python 3",
      "language": "python",
      "name": "python3"
    },
    "language_info": {
      "codemirror_mode": {
        "name": "ipython",
        "version": 3
      },
      "file_extension": ".py",
      "mimetype": "text/x-python",
      "name": "python",
      "nbconvert_exporter": "python",
      "pygments_lexer": "ipython3",
      "version": "3.7.4"
    },
    "latex_envs": {
      "LaTeX_envs_menu_present": true,
      "autoclose": false,
      "autocomplete": true,
      "bibliofile": "biblio.bib",
      "cite_by": "apalike",
      "current_citInitial": 1,
      "eqLabelWithNumbers": true,
      "eqNumInitial": 1,
      "hotkeys": {
        "equation": "Ctrl-E",
        "itemize": "Ctrl-I"
      },
      "labels_anchors": false,
      "latex_user_defs": false,
      "report_style_numbering": false,
      "user_envs_cfg": false
    },
    "colab": {
      "name": "lab-1.ipynb",
      "provenance": [],
      "collapsed_sections": []
    }
  },
  "nbformat": 4,
  "nbformat_minor": 0
}